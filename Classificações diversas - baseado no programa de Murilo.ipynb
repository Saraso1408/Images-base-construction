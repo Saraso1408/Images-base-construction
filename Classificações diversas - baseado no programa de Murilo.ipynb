{
 "cells": [
  {
   "cell_type": "code",
   "execution_count": 62,
   "metadata": {},
   "outputs": [],
   "source": [
    "import sys\n",
    "sys.path.append(\"/home/sara/lib\")"
   ]
  },
  {
   "cell_type": "code",
   "execution_count": 63,
   "metadata": {},
   "outputs": [],
   "source": [
    "import pandas as pd\n",
    "import os\n",
    "import numpy\n",
    "import libopf_py\n",
    "import pandas as pd\n",
    "import time\n",
    "\n",
    "from sklearn.svm import SVC\n",
    "from sklearn import svm\n",
    "from sklearn.neighbors import KNeighborsClassifier\n",
    "from sklearn.tree import DecisionTreeClassifier\n",
    "from sklearn.ensemble import RandomForestClassifier, AdaBoostClassifier\n",
    "from sklearn.naive_bayes import GaussianNB\n",
    "#from sklearn.neural_network import MLPClassifier\n",
    "from sklearn.model_selection import train_test_split\n",
    "from sklearn.metrics import accuracy_score\n",
    "from sklearn.model_selection import cross_val_predict\n",
    "from sklearn import metrics\n",
    "from sklearn.model_selection import cross_val_score"
   ]
  },
  {
   "cell_type": "code",
   "execution_count": 64,
   "metadata": {},
   "outputs": [],
   "source": [
    "df = pd.read_csv(\"csv_dataset/dataframe.csv\", header=None, sep=';')\n",
    "df = df.drop([0], axis=0)\n",
    "df = df.drop(columns=[0])\n",
    "features = df.iloc[1:2975,1:137]\n",
    "features = features.to_numpy()\n",
    "features = features.astype('float64')\n",
    "labels = df.iloc[1:,136]\n",
    "labels = labels.to_numpy()\n",
    "labels = labels.astype('float64')\n",
    "n_samples = len(features)\n",
    "\n",
    "label_train_32 = train_labels.astype(numpy.int32)\n",
    "label_test_32 = test_labels.astype(numpy.int32)"
   ]
  },
  {
   "cell_type": "code",
   "execution_count": 65,
   "metadata": {},
   "outputs": [],
   "source": [
    "# adaptações ao OPF.\n",
    "def opf():\n",
    "        \n",
    "    # OPF only supports 32 bits labels at the moment\n",
    "    label_train_32 = train_labels.astype(numpy.int32)\n",
    "    label_test_32 = test_labels.astype(numpy.int32)\n",
    "\n",
    "    O = libopf_py.OPF()\n",
    "\n",
    "    O.fit(train_feat, label_train_32)\n",
    "\n",
    "    predicted = O.predict(test_feat)\n",
    "    name = \"OPF\"\n",
    "    acc = accuracy_score(label_test_32, predicted)\n",
    "    print (\"{:46} {:.3f} \".format(name, acc.mean()))"
   ]
  },
  {
   "cell_type": "code",
   "execution_count": null,
   "metadata": {},
   "outputs": [],
   "source": []
  },
  {
   "cell_type": "code",
   "execution_count": 66,
   "metadata": {},
   "outputs": [
    {
     "name": "stdout",
     "output_type": "stream",
     "text": [
      "Training set: 2379 samples\n",
      "Test set: 595 samples\n"
     ]
    }
   ],
   "source": [
    "train_feat,test_feat,train_labels,test_labels = train_test_split(features,labels, test_size=0.20,random_state=42 )\n",
    "\n",
    "print (\"Training set:\", train_feat.shape[0], \"samples\")\n",
    "print (\"Test set:\", test_feat.shape[0], \"samples\")"
   ]
  },
  {
   "cell_type": "code",
   "execution_count": 67,
   "metadata": {},
   "outputs": [],
   "source": [
    "C=1\n",
    "models = (SVC(kernel='linear', C=C, gamma='auto'),\n",
    "          SVC(kernel='rbf', gamma=0.5, C=C),\n",
    "          SVC(kernel='poly', degree=3, C=C, gamma='auto'),\n",
    "          KNeighborsClassifier(3),\n",
    "          DecisionTreeClassifier(max_depth=8),\n",
    "          RandomForestClassifier(max_depth=8, n_estimators=10, max_features=1),          \n",
    "          AdaBoostClassifier(),\n",
    "          GaussianNB(),\n",
    "         )\n",
    "\n",
    "names = [\"SVC with linear kernel\",\"SVC with RBF kernel\",\"SVC with polynomial (degree 3) kernel\",\n",
    "         \"K Nearest Neighbors\",\"Decision Tree\", \"Random Forest\", \"AdaBoost\",\"Naive Bayes\"]\n"
   ]
  },
  {
   "cell_type": "markdown",
   "metadata": {},
   "source": [
    "k-holdout validation"
   ]
  },
  {
   "cell_type": "code",
   "execution_count": 68,
   "metadata": {},
   "outputs": [
    {
     "name": "stdout",
     "output_type": "stream",
     "text": [
      "      Classifiers:                           Accuracy:\n",
      "SVC with linear kernel                         0.931 \n",
      "SVC with RBF kernel                            0.064 \n",
      "SVC with polynomial (degree 3) kernel          0.926 \n",
      "K Nearest Neighbors                            0.257 \n",
      "Decision Tree                                  0.975 \n",
      "Random Forest                                  0.232 \n",
      "AdaBoost                                       0.316 \n",
      "Naive Bayes                                    1.000 \n",
      "OPF                                            0.281 \n"
     ]
    }
   ],
   "source": [
    "print (\"      Classifiers: \\t Accuracy:\".expandtabs(44))\n",
    "for name, clf in zip(names, models):    \n",
    "    clf.fit(train_feat,train_labels) #train each model\n",
    "    scores = clf.score(test_feat,test_labels) #evaluate each model in the test set\n",
    "    print (\"{:46} {:.3f} \".format(name, scores.mean()))\n",
    "opf()"
   ]
  },
  {
   "cell_type": "markdown",
   "metadata": {},
   "source": [
    "k-fold cross validation"
   ]
  },
  {
   "cell_type": "code",
   "execution_count": null,
   "metadata": {},
   "outputs": [
    {
     "name": "stdout",
     "output_type": "stream",
     "text": [
      "      Classifiers:                    Accuracy (standard deviation)\n",
      "SVC with linear kernel                    0.887 (+/- 0.055) \n",
      "SVC with RBF kernel                       0.065 (+/- 0.001) \n"
     ]
    }
   ],
   "source": [
    "print (\"      Classifiers: \\t Accuracy (standard deviation)\".expandtabs(37))\n",
    "for name, clf in zip(names, models):    \n",
    "    scores = cross_val_score(clf,features,labels,cv=10) #train and evaluate each model in each fold    \n",
    "    print (\"{:41} {:.3f} (+/- {:.3f}) \".format(name, scores.mean(), scores.std() * 2))"
   ]
  },
  {
   "cell_type": "code",
   "execution_count": null,
   "metadata": {},
   "outputs": [],
   "source": []
  }
 ],
 "metadata": {
  "kernelspec": {
   "display_name": "Python 3",
   "language": "python",
   "name": "python3"
  },
  "language_info": {
   "codemirror_mode": {
    "name": "ipython",
    "version": 3
   },
   "file_extension": ".py",
   "mimetype": "text/x-python",
   "name": "python",
   "nbconvert_exporter": "python",
   "pygments_lexer": "ipython3",
   "version": "3.7.2"
  }
 },
 "nbformat": 4,
 "nbformat_minor": 2
}
